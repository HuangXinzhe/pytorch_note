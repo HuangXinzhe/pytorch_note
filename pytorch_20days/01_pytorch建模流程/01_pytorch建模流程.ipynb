{
 "cells": [
  {
   "cell_type": "markdown",
   "metadata": {},
   "source": [
    "使用Pytorch实现神经网络模型的一般流程包括：\n",
    "1. 准备数据\n",
    "2. 定义模型\n",
    "3. 训练模型\n",
    "4. 评估模型\n",
    "5. 使用模型\n",
    "6. 保存模型。"
   ]
  },
  {
   "cell_type": "markdown",
   "metadata": {},
   "source": []
  }
 ],
 "metadata": {
  "language_info": {
   "name": "python"
  }
 },
 "nbformat": 4,
 "nbformat_minor": 2
}
