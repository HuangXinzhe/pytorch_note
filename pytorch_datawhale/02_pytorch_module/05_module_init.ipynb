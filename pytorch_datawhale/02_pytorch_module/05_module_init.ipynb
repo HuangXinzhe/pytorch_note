{
 "cells": [
  {
   "cell_type": "markdown",
   "metadata": {},
   "source": [
    "# 模型初始化\n",
    "在深度学习模型的训练中，权重的初始值极为重要。一个好的初始值，会使模型收敛速度提高，使模型准确率更精确。一般情况下，我们不使用全0初始值训练网络。为了利于训练和减少收敛时间，我们需要对模型进行合理的初始化。PyTorch也在torch.nn.init中为我们提供了常用的初始化方法"
   ]
  },
  {
   "cell_type": "markdown",
   "metadata": {},
   "source": [
    "## torch.nn.init使用\n",
    "通常会根据实际模型来使用torch.nn.init进行初始化，通常使用isinstance()来进行判断模块属于什么类型。"
   ]
  },
  {
   "cell_type": "code",
   "execution_count": 5,
   "metadata": {},
   "outputs": [
    {
     "name": "stdout",
     "output_type": "stream",
     "text": [
      "True\n",
      "False\n"
     ]
    }
   ],
   "source": [
    "import torch\n",
    "import torch.nn as nn\n",
    "\n",
    "conv = nn.Conv2d(1, 3, 3)\n",
    "linear = nn.Linear(10, 1)\n",
    "\n",
    "print(isinstance(conv,nn.Conv2d)) # 判断conv是否是nn.Conv2d类型\n",
    "print(isinstance(linear,nn.Conv2d)) # 判断linear是否是nn.Conv2d类型"
   ]
  },
  {
   "cell_type": "code",
   "execution_count": 6,
   "metadata": {},
   "outputs": [
    {
     "name": "stdout",
     "output_type": "stream",
     "text": [
      "tensor([[[[ 0.0649,  0.0499,  0.2690],\n",
      "          [-0.2581, -0.2955,  0.1092],\n",
      "          [ 0.1342,  0.0149, -0.1022]]],\n",
      "\n",
      "\n",
      "        [[[ 0.1881,  0.2658,  0.2167],\n",
      "          [ 0.1855,  0.1850, -0.0031],\n",
      "          [ 0.2147, -0.3313,  0.2925]]],\n",
      "\n",
      "\n",
      "        [[[ 0.1777, -0.2966,  0.1964],\n",
      "          [-0.1386,  0.0648, -0.0646],\n",
      "          [ 0.0847,  0.1620, -0.1190]]]])\n",
      "tensor([[-0.1683,  0.1213,  0.0343,  0.1980, -0.0388,  0.2920,  0.1678,  0.1059,\n",
      "         -0.2815,  0.0879]])\n"
     ]
    }
   ],
   "source": [
    "# 查看随机初始化的conv参数\n",
    "print(conv.weight.data)\n",
    "# 查看linear的参数\n",
    "print(linear.weight.data)"
   ]
  },
  {
   "cell_type": "code",
   "execution_count": 7,
   "metadata": {},
   "outputs": [
    {
     "name": "stdout",
     "output_type": "stream",
     "text": [
      "tensor([[[[ 0.5562, -0.2481,  0.3210],\n",
      "          [-0.1728, -0.4981,  0.7003],\n",
      "          [ 0.6046, -0.2711,  0.3497]]],\n",
      "\n",
      "\n",
      "        [[[-0.1609, -0.5650,  0.3399],\n",
      "          [ 0.1784, -0.3683,  0.0305],\n",
      "          [-0.1990, -0.1506, -1.0631]]],\n",
      "\n",
      "\n",
      "        [[[ 0.1771,  0.8817, -0.2890],\n",
      "          [ 0.2547,  0.2746,  0.1981],\n",
      "          [-0.6396, -0.1469,  0.1378]]]])\n",
      "tensor([[0.3000, 0.3000, 0.3000, 0.3000, 0.3000, 0.3000, 0.3000, 0.3000, 0.3000,\n",
      "         0.3000]])\n"
     ]
    }
   ],
   "source": [
    "# 对conv进行kaiming初始化\n",
    "torch.nn.init.kaiming_normal_(conv.weight.data)\n",
    "print(conv.weight.data)\n",
    "# 对linear进行常数初始化\n",
    "torch.nn.init.constant_(linear.weight.data,0.3)\n",
    "print(linear.weight.data)"
   ]
  },
  {
   "cell_type": "markdown",
   "metadata": {},
   "source": [
    "## 初始化函数的封装\n",
    "将各种初始化方法定义为一个initialize_weights()的函数并在模型初始后进行使用"
   ]
  },
  {
   "cell_type": "code",
   "execution_count": 8,
   "metadata": {},
   "outputs": [],
   "source": [
    "\"\"\"\n",
    "遍历当前模型的每一层，然后判断各层属于什么类型，\n",
    "然后根据不同类型层，设定不同的权值初始化方法\n",
    "\"\"\"\n",
    "def initialize_weights(model):\n",
    "\tfor m in model.modules():\n",
    "\t\t# 判断是否属于Conv2d\n",
    "\t\tif isinstance(m, nn.Conv2d):\n",
    "\t\t\ttorch.nn.init.zeros_(m.weight.data)\n",
    "\t\t\t# 判断是否有偏置\n",
    "\t\t\tif m.bias is not None:\n",
    "\t\t\t\ttorch.nn.init.constant_(m.bias.data,0.3)\n",
    "\t\telif isinstance(m, nn.Linear):\n",
    "\t\t\ttorch.nn.init.normal_(m.weight.data, 0.1)\n",
    "\t\t\tif m.bias is not None:\n",
    "\t\t\t\ttorch.nn.init.zeros_(m.bias.data)\n",
    "\t\telif isinstance(m, nn.BatchNorm2d):\n",
    "\t\t\tm.weight.data.fill_(1) \t\t \n",
    "\t\t\tm.bias.data.zeros_()"
   ]
  },
  {
   "cell_type": "markdown",
   "metadata": {},
   "source": [
    "使用初始化函数封装"
   ]
  },
  {
   "cell_type": "code",
   "execution_count": 9,
   "metadata": {},
   "outputs": [
    {
     "name": "stdout",
     "output_type": "stream",
     "text": [
      "tensor([[[[-0.1400, -0.1466, -0.2628],\n",
      "          [ 0.3193,  0.2986,  0.2296],\n",
      "          [-0.2773,  0.1935, -0.2867]]]])\n",
      "-------初始化-------\n",
      "tensor([[[[0., 0., 0.],\n",
      "          [0., 0., 0.],\n",
      "          [0., 0., 0.]]]])\n"
     ]
    }
   ],
   "source": [
    "# 模型的定义\n",
    "class MLP(nn.Module):\n",
    "  # 声明带有模型参数的层，这里声明了两个全连接层\n",
    "  def __init__(self, **kwargs):\n",
    "    # 调用MLP父类Block的构造函数来进行必要的初始化。这样在构造实例时还可以指定其他函数\n",
    "    super(MLP, self).__init__(**kwargs)\n",
    "    self.hidden = nn.Conv2d(1,1,3)\n",
    "    self.act = nn.ReLU()\n",
    "    self.output = nn.Linear(10,1)\n",
    "    \n",
    "   # 定义模型的前向计算，即如何根据输入x计算返回所需要的模型输出\n",
    "  def forward(self, x):\n",
    "    o = self.act(self.hidden(x))\n",
    "    return self.output(o)\n",
    "\n",
    "mlp = MLP()\n",
    "print(mlp.hidden.weight.data)\n",
    "print(\"-------初始化-------\")\n",
    "\n",
    "mlp.apply(initialize_weights) # 或者initialize_weights(mlp)\n",
    "print(mlp.hidden.weight.data)"
   ]
  },
  {
   "cell_type": "markdown",
   "metadata": {},
   "source": [
    "注意： 我们在初始化时，最好不要将模型的参数初始化为0，因为这样会导致梯度消失，从而影响模型的训练效果。因此，我们在初始化时，可以使用其他初始化方法或者将模型初始化为一个很小的值，如0.01，0.1等。"
   ]
  }
 ],
 "metadata": {
  "kernelspec": {
   "display_name": "pytorch10",
   "language": "python",
   "name": "python3"
  },
  "language_info": {
   "codemirror_mode": {
    "name": "ipython",
    "version": 3
   },
   "file_extension": ".py",
   "mimetype": "text/x-python",
   "name": "python",
   "nbconvert_exporter": "python",
   "pygments_lexer": "ipython3",
   "version": "3.10.13"
  }
 },
 "nbformat": 4,
 "nbformat_minor": 2
}
