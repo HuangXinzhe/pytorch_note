{
 "cells": [
  {
   "cell_type": "markdown",
   "metadata": {},
   "source": [
    "# 使用argparse进行调参"
   ]
  },
  {
   "cell_type": "markdown",
   "metadata": {},
   "source": [
    "## 1. argparse简介\n",
    "将命令行传入的其他参数进行解析、保存和使用。在使用argparse后，我们在命令行输入的参数就可以以这种形式python file.py --lr 1e-4 --batch_size 32来完成对常见超参数的设置"
   ]
  },
  {
   "cell_type": "markdown",
   "metadata": {},
   "source": [
    "## 2. argparse的使用\n",
    "- 创建ArgumentParser()对象\n",
    "- 调用add_argument()方法添加参数\n",
    "- 使用parse_args()解析参数 在接下来的内容中，我们将以实际操作来学习argparse的使用方法。"
   ]
  },
  {
   "cell_type": "code",
   "execution_count": null,
   "metadata": {},
   "outputs": [],
   "source": [
    "# demo.py\n",
    "import argparse\n",
    "\n",
    "# 创建ArgumentParser()对象\n",
    "parser = argparse.ArgumentParser()\n",
    "\n",
    "# 添加参数\n",
    "parser.add_argument('-o', \n",
    "                    '--output', \n",
    "                    action='store_true', \n",
    "                    help=\"shows output\")\n",
    "# action = `store_true` 会将output参数记录为True\n",
    "# type 规定了参数的格式\n",
    "# default 规定了默认值\n",
    "parser.add_argument('--lr', \n",
    "                    type=float, \n",
    "                    default=3e-5, \n",
    "                    help='select the learning rate, default=1e-3') \n",
    "\n",
    "parser.add_argument('--batch_size', \n",
    "                    type=int, \n",
    "                    required=True, \n",
    "                    help='input batch size')  \n",
    "\n",
    "# 使用parse_args()解析函数\n",
    "args = parser.parse_args()\n",
    "\n",
    "if args.output:\n",
    "    print(\"This is some output\")\n",
    "    print(f\"learning rate:{args.lr} \")\n"
   ]
  },
  {
   "cell_type": "markdown",
   "metadata": {},
   "source": [
    "```\n",
    "python demo.py --lr 3e-4 --batch_size 32\n",
    "```"
   ]
  },
  {
   "cell_type": "markdown",
   "metadata": {},
   "source": [
    "```\n",
    "# positional.py\n",
    "import argparse\n",
    "\n",
    "# 位置参数\n",
    "parser = argparse.ArgumentParser()\n",
    "\n",
    "parser.add_argument('name')\n",
    "parser.add_argument('age')\n",
    "\n",
    "args = parser.parse_args()\n",
    "\n",
    "print(f'{args.name} is {args.age} years old')\n",
    "```\n",
    "当我们不实用--后，将会严格按照参数位置进行解析\n",
    "```\n",
    "positional_arg.py Peter 23\n",
    "```"
   ]
  },
  {
   "cell_type": "markdown",
   "metadata": {},
   "source": [
    "## 3. 高效使用argparse修改超参数"
   ]
  },
  {
   "cell_type": "markdown",
   "metadata": {},
   "source": [
    "config.py文件保存超参数\n"
   ]
  },
  {
   "cell_type": "code",
   "execution_count": null,
   "metadata": {},
   "outputs": [],
   "source": [
    "import argparse\n",
    "\n",
    "\n",
    "def get_options(parser=argparse.ArgumentParser()):\n",
    "\n",
    "    parser.add_argument('--workers',\n",
    "                        type=int,\n",
    "                        default=0,\n",
    "                        help='number of data loading workers, you had better put it 4 times of your gpu')\n",
    "\n",
    "    parser.add_argument('--batch_size',\n",
    "                        type=int,\n",
    "                        default=4,\n",
    "                        help='input batch size, default=64')\n",
    "\n",
    "    parser.add_argument('--niter',\n",
    "                        type=int,\n",
    "                        default=10,\n",
    "                        help='number of epochs to train for, default=10')\n",
    "\n",
    "    parser.add_argument('--lr',\n",
    "                        type=float,\n",
    "                        default=3e-5,\n",
    "                        help='select the learning rate, default=1e-3')\n",
    "\n",
    "    parser.add_argument('--seed',\n",
    "                        type=int,\n",
    "                        default=118,\n",
    "                        help=\"random seed\")\n",
    "\n",
    "    parser.add_argument('--cuda',\n",
    "                        action='store_true',\n",
    "                        default=True,\n",
    "                        help='enables cuda')\n",
    "\n",
    "    parser.add_argument('--checkpoint_path',\n",
    "                        type=str,\n",
    "                        default='',\n",
    "                        help='Path to load a previous trained model if not empty (default empty)')\n",
    "\n",
    "    parser.add_argument('--output',\n",
    "                        action='store_true',\n",
    "                        default=True,\n",
    "                        help=\"shows output\")\n",
    "\n",
    "    opt = parser.parse_args()\n",
    "\n",
    "    if opt.output:\n",
    "        print(f'num_workers: {opt.workers}')\n",
    "        print(f'batch_size: {opt.batch_size}')\n",
    "        print(f'epochs (niters) : {opt.niter}')\n",
    "        print(f'learning rate : {opt.lr}')\n",
    "        print(f'manual_seed: {opt.seed}')\n",
    "        print(f'cuda enable: {opt.cuda}')\n",
    "        print(f'checkpoint_path: {opt.checkpoint_path}')\n",
    "\n",
    "    return opt\n",
    "\n",
    "\n",
    "if __name__ == '__main__':\n",
    "    opt = get_options()"
   ]
  },
  {
   "cell_type": "markdown",
   "metadata": {},
   "source": [
    "```\n",
    "$ python config.py\n",
    "\n",
    "num_workers: 0\n",
    "batch_size: 4\n",
    "epochs (niters) : 10\n",
    "learning rate : 3e-05\n",
    "manual_seed: 118\n",
    "cuda enable: True\n",
    "checkpoint_path:\n",
    "```"
   ]
  },
  {
   "cell_type": "markdown",
   "metadata": {},
   "source": [
    "在train.py等其他文件，使用下面的结果调用参数"
   ]
  },
  {
   "cell_type": "code",
   "execution_count": null,
   "metadata": {},
   "outputs": [],
   "source": [
    "# 导入必要库\n",
    "import config\n",
    "...\n",
    "\n",
    "opt = config.get_options()\n",
    "\n",
    "manual_seed = opt.seed\n",
    "num_workers = opt.workers\n",
    "batch_size = opt.batch_size\n",
    "lr = opt.lr\n",
    "niters = opt.niters\n",
    "checkpoint_path = opt.checkpoint_path\n",
    "\n",
    "# 随机数的设置，保证复现结果\n",
    "\n",
    "\n",
    "def set_seed(seed):\n",
    "    torch.manual_seed(seed)\n",
    "    torch.cuda.manual_seed_all(seed)\n",
    "    random.seed(seed)\n",
    "    np.random.seed(seed)\n",
    "    torch.backends.cudnn.benchmark = False\n",
    "    torch.backends.cudnn.deterministic = True\n",
    "\n",
    "\n",
    "...\n",
    "\n",
    "\n",
    "if __name__ == '__main__':\n",
    "\tset_seed(manual_seed)\n",
    "\tfor epoch in range(niters):\n",
    "\t\ttrain(model, lr, batch_size, num_workers, checkpoint_path)\n",
    "\t\tval(model, lr, batch_size, num_workers, checkpoint_path)"
   ]
  }
 ],
 "metadata": {
  "kernelspec": {
   "display_name": "pytorch10",
   "language": "python",
   "name": "python3"
  },
  "language_info": {
   "codemirror_mode": {
    "name": "ipython",
    "version": 3
   },
   "file_extension": ".py",
   "mimetype": "text/x-python",
   "name": "python",
   "nbconvert_exporter": "python",
   "pygments_lexer": "ipython3",
   "version": "3.10.13"
  }
 },
 "nbformat": 4,
 "nbformat_minor": 2
}
