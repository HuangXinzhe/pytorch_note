{
 "cells": [
  {
   "cell_type": "markdown",
   "metadata": {},
   "source": [
    "# wandb"
   ]
  },
  {
   "cell_type": "markdown",
   "metadata": {},
   "source": [
    "## 1. 安装"
   ]
  },
  {
   "cell_type": "code",
   "execution_count": null,
   "metadata": {},
   "outputs": [],
   "source": [
    "!pip install wandb"
   ]
  },
  {
   "cell_type": "markdown",
   "metadata": {},
   "source": [
    "## 2. 使用"
   ]
  },
  {
   "cell_type": "code",
   "execution_count": null,
   "metadata": {},
   "outputs": [],
   "source": [
    "# 登录\n",
    "wandb login"
   ]
  },
  {
   "cell_type": "code",
   "execution_count": null,
   "metadata": {},
   "outputs": [],
   "source": [
    "import wandb\n",
    "wandb.init(project='my-project', entity='my-name')"
   ]
  },
  {
   "cell_type": "markdown",
   "metadata": {},
   "source": [
    "## 3. 代码示例"
   ]
  },
  {
   "cell_type": "code",
   "execution_count": null,
   "metadata": {},
   "outputs": [],
   "source": [
    "\n",
    "import random  # to set the python random seed\n",
    "import numpy  # to set the numpy random seed\n",
    "import torch\n",
    "import torch.nn as nn\n",
    "import torch.nn.functional as F\n",
    "import torch.optim as optim\n",
    "from torchvision import datasets, transforms\n",
    "from torch.utils.data import DataLoader\n",
    "from torchvision.models import resnet18\n",
    "import warnings\n",
    "warnings.filterwarnings('ignore')"
   ]
  },
  {
   "cell_type": "code",
   "execution_count": null,
   "metadata": {},
   "outputs": [],
   "source": [
    "# 初始化wandb\n",
    "import wandb\n",
    "wandb.init(project=\"thorough-pytorch\",\n",
    "           name=\"wandb_demo\",)"
   ]
  },
  {
   "cell_type": "code",
   "execution_count": null,
   "metadata": {},
   "outputs": [],
   "source": [
    "# 超参数设置\n",
    "config = wandb.config  # config的初始化\n",
    "config.batch_size = 64\n",
    "config.test_batch_size = 10\n",
    "config.epochs = 5\n",
    "config.lr = 0.01\n",
    "config.momentum = 0.1\n",
    "config.use_cuda = True\n",
    "config.seed = 2043\n",
    "config.log_interval = 10\n",
    "\n",
    "# 设置随机数\n",
    "\n",
    "\n",
    "def set_seed(seed):\n",
    "    random.seed(config.seed)\n",
    "    torch.manual_seed(config.seed)\n",
    "    numpy.random.seed(config.seed)"
   ]
  },
  {
   "cell_type": "code",
   "execution_count": null,
   "metadata": {},
   "outputs": [],
   "source": [
    "def train(model, device, train_loader, optimizer):\n",
    "    model.train()\n",
    "\n",
    "    for batch_id, (data, target) in enumerate(train_loader):\n",
    "        data, target = data.to(device), target.to(device)\n",
    "        optimizer.zero_grad()\n",
    "        output = model(data)\n",
    "        criterion = nn.CrossEntropyLoss()\n",
    "        loss = criterion(output, target)\n",
    "        loss.backward()\n",
    "        optimizer.step()\n",
    "\n",
    "# wandb.log用来记录一些日志(accuracy,loss and epoch), 便于随时查看网路的性能\n",
    "\n",
    "\n",
    "def test(model, device, test_loader, classes):\n",
    "    model.eval()\n",
    "    test_loss = 0\n",
    "    correct = 0\n",
    "    example_images = []\n",
    "\n",
    "    with torch.no_grad():\n",
    "        for data, target in test_loader:\n",
    "            data, target = data.to(device), target.to(device)\n",
    "            output = model(data)\n",
    "            criterion = nn.CrossEntropyLoss()\n",
    "            test_loss += criterion(output, target).item()\n",
    "            pred = output.max(1, keepdim=True)[1]\n",
    "            correct += pred.eq(target.view_as(pred)).sum().item()\n",
    "            example_images.append(wandb.Image(\n",
    "                data[0], caption=\"Pred:{} Truth:{}\".format(classes[pred[0].item()], classes[target[0]])))\n",
    "\n",
    "   # 使用wandb.log 记录你想记录的指标\n",
    "    wandb.log({\n",
    "        \"Examples\": example_images,\n",
    "        \"Test Accuracy\": 100. * correct / len(test_loader.dataset),\n",
    "        \"Test Loss\": test_loss\n",
    "    })\n",
    "\n",
    "\n",
    "wandb.watch_called = False\n",
    "\n",
    "\n",
    "def main():\n",
    "    use_cuda = config.use_cuda and torch.cuda.is_available()\n",
    "    device = torch.device(\"cuda:0\" if use_cuda else \"cpu\")\n",
    "    kwargs = {'num_workers': 1, 'pin_memory': True} if use_cuda else {}\n",
    "\n",
    "    # 设置随机数\n",
    "    set_seed(config.seed)\n",
    "    torch.backends.cudnn.deterministic = True\n",
    "\n",
    "    # 数据预处理\n",
    "    transform = transforms.Compose([\n",
    "        transforms.ToTensor(),\n",
    "        transforms.Normalize((0.5, 0.5, 0.5), (0.5, 0.5, 0.5))\n",
    "    ])\n",
    "\n",
    "    # 加载数据\n",
    "    train_loader = DataLoader(datasets.CIFAR10(\n",
    "        root='dataset',\n",
    "        train=True,\n",
    "        download=True,\n",
    "        transform=transform\n",
    "    ), batch_size=config.batch_size, shuffle=True, **kwargs)\n",
    "\n",
    "    test_loader = DataLoader(datasets.CIFAR10(\n",
    "        root='dataset',\n",
    "        train=False,\n",
    "        download=True,\n",
    "        transform=transform\n",
    "    ), batch_size=config.batch_size, shuffle=False, **kwargs)\n",
    "\n",
    "    classes = ('plane', 'car', 'bird', 'cat', 'deer',\n",
    "               'dog', 'frog', 'horse', 'ship', 'truck')\n",
    "\n",
    "    model = resnet18(pretrained=True).to(device)\n",
    "    optimizer = optim.SGD(model.parameters(), lr=config.lr,\n",
    "                          momentum=config.momentum)\n",
    "\n",
    "    wandb.watch(model, log=\"all\")\n",
    "    for epoch in range(1, config.epochs + 1):\n",
    "        train(model, device, train_loader, optimizer)\n",
    "        test(model, device, test_loader, classes)\n",
    "\n",
    "    # 本地和云端模型保存\n",
    "    torch.save(model.state_dict(), 'model.pth')\n",
    "    wandb.save('model.pth')\n",
    "\n",
    "\n",
    "if __name__ == '__main__':\n",
    "    main()"
   ]
  },
  {
   "cell_type": "markdown",
   "metadata": {},
   "source": []
  }
 ],
 "metadata": {
  "language_info": {
   "name": "python"
  }
 },
 "nbformat": 4,
 "nbformat_minor": 2
}
