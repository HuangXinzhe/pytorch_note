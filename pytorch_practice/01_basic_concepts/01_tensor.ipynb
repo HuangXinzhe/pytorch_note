{
 "cells": [
  {
   "cell_type": "markdown",
   "metadata": {},
   "source": [
    "# tensor的创建方法"
   ]
  },
  {
   "cell_type": "code",
   "execution_count": 4,
   "metadata": {},
   "outputs": [
    {
     "data": {
      "text/plain": [
       "<torch._C.Generator at 0x112b67c70>"
      ]
     },
     "execution_count": 4,
     "metadata": {},
     "output_type": "execute_result"
    }
   ],
   "source": [
    "import torch\n",
    "import numpy as np\n",
    "torch.manual_seed(1)\n",
    "# 判断是否有GPU资源\n"
   ]
  },
  {
   "cell_type": "markdown",
   "metadata": {},
   "source": [
    "## 创建tensor"
   ]
  },
  {
   "cell_type": "code",
   "execution_count": 10,
   "metadata": {},
   "outputs": [
    {
     "name": "stdout",
     "output_type": "stream",
     "text": [
      "ndarray的数据类型： float64\n",
      "tensor([[1., 1., 1.],\n",
      "        [1., 1., 1.],\n",
      "        [1., 1., 1.]], dtype=torch.float64)\n"
     ]
    }
   ],
   "source": [
    "# ===============================  exmaple 1 ===============================\n",
    "# 通过torch.tensor创建张量\n",
    "# 创建全1张量\n",
    "arr = np.ones((3, 3))\n",
    "print(\"ndarray的数据类型：\", arr.dtype)\n",
    "# 创建存放在 GPU 的数据\n",
    "# t = torch.tensor(arr, device='cuda')\n",
    "# t = torch.tensor(data=arr, dtype=torch.float32, device=\"mps\")\n",
    "t = torch.tensor(arr)\n",
    "print(t)"
   ]
  },
  {
   "cell_type": "code",
   "execution_count": 11,
   "metadata": {},
   "outputs": [
    {
     "name": "stdout",
     "output_type": "stream",
     "text": [
      "\n",
      "修改arr\n",
      "numpy array:  [[0 2 3]\n",
      " [4 5 6]]\n",
      "tensor :  tensor([[0, 2, 3],\n",
      "        [4, 5, 6]])\n",
      "\n",
      "修改tensor\n",
      "numpy array:  [[-1  2  3]\n",
      " [ 4  5  6]]\n",
      "tensor :  tensor([[-1,  2,  3],\n",
      "        [ 4,  5,  6]])\n"
     ]
    }
   ],
   "source": [
    "# ===============================  exmaple 2 ===============================\n",
    "# 通过torch.from_numpy创建张量\n",
    "# 通过已有的numpy数组创建tensor\n",
    "arr = np.array([[1, 2, 3], [4, 5, 6]])\n",
    "t = torch.from_numpy(arr)\n",
    "\n",
    "# 修改 array，tensor 也会被修改\n",
    "print(\"\\n修改arr\")\n",
    "arr[0, 0] = 0\n",
    "print(\"numpy array: \", arr)\n",
    "print(\"tensor : \", t)\n",
    "\n",
    "# 修改 tensor，array 也会被修改\n",
    "print(\"\\n修改tensor\")\n",
    "t[0, 0] = -1\n",
    "print(\"numpy array: \", arr)\n",
    "print(\"tensor : \", t)"
   ]
  },
  {
   "cell_type": "code",
   "execution_count": 12,
   "metadata": {},
   "outputs": [
    {
     "name": "stdout",
     "output_type": "stream",
     "text": [
      "tensor([[0, 0, 0],\n",
      "        [0, 0, 0],\n",
      "        [0, 0, 0]]) \n",
      " tensor([[0, 0, 0],\n",
      "        [0, 0, 0],\n",
      "        [0, 0, 0]])\n",
      "4696071200 4696071200 True\n"
     ]
    }
   ],
   "source": [
    "# ===============================  exmaple 3 ===============================\n",
    "# 通过torch.zeros创建张量\n",
    "\n",
    "out_t = torch.tensor([1])\n",
    "# 这里制定了 out\n",
    "t = torch.zeros((3, 3), out=out_t)\n",
    "print(t, '\\n', out_t)\n",
    "# id 是取内存地址。最终 t 和 out_t 是同一个内存地址\n",
    "print(id(t), id(out_t), id(t) == id(out_t))"
   ]
  },
  {
   "cell_type": "markdown",
   "metadata": {},
   "source": [
    "- torch.zeros_like()\n",
    "- torch.ones()\n",
    "- torch.ones_like()"
   ]
  },
  {
   "cell_type": "code",
   "execution_count": 13,
   "metadata": {},
   "outputs": [
    {
     "name": "stdout",
     "output_type": "stream",
     "text": [
      "tensor([[1, 1, 1],\n",
      "        [1, 1, 1],\n",
      "        [1, 1, 1]])\n"
     ]
    }
   ],
   "source": [
    "# ===============================  exmaple 4 ===============================\n",
    "# 通过torch.full创建全1张量\n",
    "\n",
    "t = torch.full((3, 3), 1)\n",
    "print(t)"
   ]
  },
  {
   "cell_type": "markdown",
   "metadata": {},
   "source": [
    "- torch.full_like()"
   ]
  },
  {
   "cell_type": "code",
   "execution_count": 14,
   "metadata": {},
   "outputs": [
    {
     "name": "stdout",
     "output_type": "stream",
     "text": [
      "tensor([2, 4, 6, 8])\n"
     ]
    }
   ],
   "source": [
    "# ===============================  exmaple 5 ===============================\n",
    "# 通过torch.arange创建等差数列张量\n",
    "t = torch.arange(2, 10, 2)\n",
    "print(t)"
   ]
  },
  {
   "cell_type": "code",
   "execution_count": 15,
   "metadata": {},
   "outputs": [
    {
     "name": "stdout",
     "output_type": "stream",
     "text": [
      "tensor([ 2.,  4.,  6.,  8., 10.])\n"
     ]
    }
   ],
   "source": [
    "# ===============================  exmaple 6 ===============================\n",
    "# 通过torch.linspace创建均分数列张量\n",
    "t = torch.linspace(2, 10, 5)\n",
    "print(t)"
   ]
  },
  {
   "cell_type": "markdown",
   "metadata": {},
   "source": [
    "- torch.logspace()\n",
    "- torch.eye()"
   ]
  },
  {
   "cell_type": "code",
   "execution_count": 16,
   "metadata": {},
   "outputs": [
    {
     "name": "stdout",
     "output_type": "stream",
     "text": [
      "mean:tensor([1., 2., 3., 4.])\n",
      "std:tensor([1., 2., 3., 4.])\n",
      "tensor([1.6614, 2.5338, 3.1850, 6.4853])\n",
      "tensor([-0.4519, -0.1661, -1.5228,  0.3817])\n",
      "mean:tensor([1., 2., 3., 4.])\n",
      "std:1\n",
      "tensor([-0.0276,  1.4369,  2.1077,  3.9417])\n"
     ]
    }
   ],
   "source": [
    "# ===============================  exmaple 7 ===============================\n",
    "# 通过torch.normal创建正态分布张量\n",
    "\n",
    "# mean：张量 std: 张量\n",
    "mean = torch.arange(1, 5, dtype=torch.float)\n",
    "std = torch.arange(1, 5, dtype=torch.float)\n",
    "t_normal = torch.normal(mean, std)\n",
    "print(\"mean:{}\\nstd:{}\".format(mean, std))\n",
    "print(t_normal)\n",
    "\n",
    "# mean：标量 std: 标量\n",
    "# 这里需要设置 size\n",
    "t_normal = torch.normal(0., 1., size=(4,))\n",
    "print(t_normal)\n",
    "\n",
    "# mean：张量 std: 标量\n",
    "mean = torch.arange(1, 5, dtype=torch.float)\n",
    "std = 1\n",
    "t_normal = torch.normal(mean, std)\n",
    "print(\"mean:{}\\nstd:{}\".format(mean, std))\n",
    "print(t_normal)"
   ]
  },
  {
   "cell_type": "markdown",
   "metadata": {},
   "source": [
    "- torch.randn()\n",
    "- torch.randn_like()\n",
    "- torch.rand()\n",
    "- torch.rand_like()\n",
    "- torch.randint()\n",
    "- torch.randint_like()\n",
    "- torch.randperm()\n",
    "- torch.bernoulli()"
   ]
  },
  {
   "cell_type": "markdown",
   "metadata": {},
   "source": [
    "## 拼接"
   ]
  },
  {
   "cell_type": "code",
   "execution_count": 17,
   "metadata": {},
   "outputs": [
    {
     "name": "stdout",
     "output_type": "stream",
     "text": [
      "t_0:tensor([[1., 1., 1.],\n",
      "        [1., 1., 1.],\n",
      "        [1., 1., 1.],\n",
      "        [1., 1., 1.]]) shape:torch.Size([4, 3])\n",
      "t_1:tensor([[1., 1., 1., 1., 1., 1.],\n",
      "        [1., 1., 1., 1., 1., 1.]]) shape:torch.Size([2, 6])\n"
     ]
    }
   ],
   "source": [
    "# 按维度进行拼接\n",
    "t = torch.ones((2, 3))\n",
    "t_0 = torch.cat([t, t], dim=0)\n",
    "t_1 = torch.cat([t, t], dim=1)\n",
    "print(\"t_0:{} shape:{}\\nt_1:{} shape:{}\".format(t_0, t_0.shape, t_1, t_1.shape))"
   ]
  },
  {
   "cell_type": "code",
   "execution_count": 20,
   "metadata": {},
   "outputs": [
    {
     "name": "stdout",
     "output_type": "stream",
     "text": [
      "\n",
      "t_stack.shape:torch.Size([2, 3, 3])\n",
      "tensor([[[1., 1., 1.],\n",
      "         [1., 1., 1.],\n",
      "         [1., 1., 1.]],\n",
      "\n",
      "        [[1., 1., 1.],\n",
      "         [1., 1., 1.],\n",
      "         [1., 1., 1.]]])\n",
      "\n",
      "t_stack.shape:torch.Size([2, 3, 3])\n",
      "tensor([[[1., 1., 1.],\n",
      "         [1., 1., 1.],\n",
      "         [1., 1., 1.]],\n",
      "\n",
      "        [[1., 1., 1.],\n",
      "         [1., 1., 1.],\n",
      "         [1., 1., 1.]]])\n",
      "\n",
      "t_stack.shape:torch.Size([3, 2, 3])\n",
      "tensor([[[1., 1., 1.],\n",
      "         [1., 1., 1.]],\n",
      "\n",
      "        [[1., 1., 1.],\n",
      "         [1., 1., 1.]],\n",
      "\n",
      "        [[1., 1., 1.],\n",
      "         [1., 1., 1.]]])\n"
     ]
    }
   ],
   "source": [
    "# 在新创建的维度上进行拼接\n",
    "t = torch.ones((2, 3))\n",
    "# dim = 2\n",
    "t_stack = torch.stack([t, t, t], dim=2)  # 按列拼接\n",
    "print(\"\\nt_stack.shape:{}\".format(t_stack.shape))\n",
    "print(t_stack)\n",
    "# dim = 1\n",
    "t_stack = torch.stack([t, t, t], dim=1)  # 按行拼接\n",
    "print(\"\\nt_stack.shape:{}\".format(t_stack.shape))\n",
    "print(t_stack)\n",
    "# dim = 0\n",
    "t_stack = torch.stack([t, t, t], dim=0)  # 按深度拼接\n",
    "print(\"\\nt_stack.shape:{}\".format(t_stack.shape))\n",
    "print(t_stack)"
   ]
  },
  {
   "cell_type": "code",
   "execution_count": 27,
   "metadata": {},
   "outputs": [
    {
     "name": "stdout",
     "output_type": "stream",
     "text": [
      "torch.Size([2, 3, 3])\n"
     ]
    },
    {
     "data": {
      "text/plain": [
       "tensor([[[ 1,  2,  3],\n",
       "         [ 4,  5,  6],\n",
       "         [ 7,  8,  9]],\n",
       "\n",
       "        [[10, 20, 30],\n",
       "         [40, 50, 60],\n",
       "         [70, 80, 90]]])"
      ]
     },
     "execution_count": 27,
     "metadata": {},
     "output_type": "execute_result"
    }
   ],
   "source": [
    "t1 = torch.tensor([[1, 2, 3],\n",
    "                 [4, 5, 6],\n",
    "                 [7, 8, 9]])\n",
    "t2 = torch.tensor([[10, 20, 30],\n",
    "                 [40, 50, 60],\n",
    "                 [70, 80, 90]])\n",
    "\n",
    "t_stack = torch.stack([t1, t2], dim=0)\n",
    "print(t_stack.shape)\n",
    "t_stack"
   ]
  },
  {
   "cell_type": "code",
   "execution_count": 23,
   "metadata": {},
   "outputs": [
    {
     "name": "stdout",
     "output_type": "stream",
     "text": [
      "torch.Size([3, 2, 3])\n"
     ]
    },
    {
     "data": {
      "text/plain": [
       "tensor([[[ 1,  2,  3],\n",
       "         [10, 20, 30]],\n",
       "\n",
       "        [[ 4,  5,  6],\n",
       "         [40, 50, 60]],\n",
       "\n",
       "        [[ 7,  8,  9],\n",
       "         [70, 80, 90]]])"
      ]
     },
     "execution_count": 23,
     "metadata": {},
     "output_type": "execute_result"
    }
   ],
   "source": [
    "t1 = torch.tensor([[1, 2, 3],\n",
    "                 [4, 5, 6],\n",
    "                 [7, 8, 9]])\n",
    "t2 = torch.tensor([[10, 20, 30],\n",
    "                 [40, 50, 60],\n",
    "                 [70, 80, 90]])\n",
    "\n",
    "t_stack = torch.stack([t1, t2], dim=1)\n",
    "print(t_stack.shape)\n",
    "t_stack"
   ]
  },
  {
   "cell_type": "code",
   "execution_count": 25,
   "metadata": {},
   "outputs": [
    {
     "name": "stdout",
     "output_type": "stream",
     "text": [
      "torch.Size([3, 3, 2])\n"
     ]
    },
    {
     "data": {
      "text/plain": [
       "tensor([[[ 1, 10],\n",
       "         [ 2, 20],\n",
       "         [ 3, 30]],\n",
       "\n",
       "        [[ 4, 40],\n",
       "         [ 5, 50],\n",
       "         [ 6, 60]],\n",
       "\n",
       "        [[ 7, 70],\n",
       "         [ 8, 80],\n",
       "         [ 9, 90]]])"
      ]
     },
     "execution_count": 25,
     "metadata": {},
     "output_type": "execute_result"
    }
   ],
   "source": [
    "t1 = torch.tensor([[1, 2, 3],\n",
    "                 [4, 5, 6],\n",
    "                 [7, 8, 9]])\n",
    "t2 = torch.tensor([[10, 20, 30],\n",
    "                 [40, 50, 60],\n",
    "                 [70, 80, 90]])\n",
    "\n",
    "t_stack = torch.stack([t1, t2], dim=2)\n",
    "print(t_stack.shape)\n",
    "t_stack"
   ]
  },
  {
   "cell_type": "markdown",
   "metadata": {},
   "source": [
    "## 切分"
   ]
  },
  {
   "cell_type": "code",
   "execution_count": 28,
   "metadata": {},
   "outputs": [
    {
     "name": "stdout",
     "output_type": "stream",
     "text": [
      "第1个张量：tensor([[1., 1., 1.],\n",
      "        [1., 1., 1.]]), shape is torch.Size([2, 3])\n",
      "第2个张量：tensor([[1., 1., 1.],\n",
      "        [1., 1., 1.]]), shape is torch.Size([2, 3])\n",
      "第3个张量：tensor([[1.],\n",
      "        [1.]]), shape is torch.Size([2, 1])\n"
     ]
    }
   ],
   "source": [
    "a = torch.ones((2, 7))  # 7\n",
    "list_of_tensors = torch.chunk(a, dim=1, chunks=3)   # 3\n",
    "for idx, t in enumerate(list_of_tensors):\n",
    "    print(\"第{}个张量：{}, shape is {}\".format(idx+1, t, t.shape))"
   ]
  },
  {
   "cell_type": "code",
   "execution_count": 29,
   "metadata": {},
   "outputs": [
    {
     "name": "stdout",
     "output_type": "stream",
     "text": [
      "第1个张量：tensor([[1., 1.],\n",
      "        [1., 1.]]), shape is torch.Size([2, 2])\n",
      "第2个张量：tensor([[1.],\n",
      "        [1.]]), shape is torch.Size([2, 1])\n",
      "第3个张量：tensor([[1., 1.],\n",
      "        [1., 1.]]), shape is torch.Size([2, 2])\n"
     ]
    }
   ],
   "source": [
    "t = torch.ones((2, 5))\n",
    "list_of_tensors = torch.split(t, [2, 1, 2], dim=1)\n",
    "for idx, t in enumerate(list_of_tensors):\n",
    "    print(\"第{}个张量：{}, shape is {}\".format(idx+1, t, t.shape))"
   ]
  },
  {
   "cell_type": "markdown",
   "metadata": {},
   "source": [
    "## 索引"
   ]
  },
  {
   "cell_type": "code",
   "execution_count": 30,
   "metadata": {},
   "outputs": [
    {
     "name": "stdout",
     "output_type": "stream",
     "text": [
      "t:\n",
      "tensor([[6, 0, 7],\n",
      "        [8, 8, 4],\n",
      "        [5, 2, 6]])\n",
      "t_select:\n",
      "tensor([[6, 0, 7],\n",
      "        [5, 2, 6]])\n"
     ]
    }
   ],
   "source": [
    "# 创建均匀分布\n",
    "t = torch.randint(0, 9, size=(3, 3))\n",
    "# 注意 idx 的 dtype 不能指定为 torch.float\n",
    "idx = torch.tensor([0, 2], dtype=torch.long)\n",
    "# 取出第 0 行和第 2 行\n",
    "t_select = torch.index_select(t, dim=0, index=idx)\n",
    "print(\"t:\\n{}\\nt_select:\\n{}\".format(t, t_select))"
   ]
  },
  {
   "cell_type": "code",
   "execution_count": 31,
   "metadata": {},
   "outputs": [
    {
     "name": "stdout",
     "output_type": "stream",
     "text": [
      "t:\n",
      "tensor([[6, 7, 6],\n",
      "        [8, 6, 2],\n",
      "        [2, 6, 5]])\n",
      "mask:\n",
      "tensor([[False, False, False],\n",
      "        [False, False,  True],\n",
      "        [ True, False,  True]])\n",
      "t_select:\n",
      "tensor([2, 2, 5]) \n"
     ]
    }
   ],
   "source": [
    "t = torch.randint(0, 9, size=(3, 3))\n",
    "mask = t.le(5)  # ge is mean greater than or equal/   gt: greater than  le  lt\n",
    "# 取出大于 5 的数\n",
    "t_select = torch.masked_select(t, mask)\n",
    "print(\"t:\\n{}\\nmask:\\n{}\\nt_select:\\n{} \".format(t, mask, t_select))"
   ]
  },
  {
   "cell_type": "markdown",
   "metadata": {},
   "source": [
    "## 变换"
   ]
  },
  {
   "cell_type": "code",
   "execution_count": 32,
   "metadata": {},
   "outputs": [
    {
     "name": "stdout",
     "output_type": "stream",
     "text": [
      "t:tensor([1, 5, 0, 3, 6, 2, 7, 4])\n",
      "t_reshape:\n",
      "tensor([[[1, 5],\n",
      "         [0, 3]],\n",
      "\n",
      "        [[6, 2],\n",
      "         [7, 4]]])\n"
     ]
    }
   ],
   "source": [
    "# 生成 0 到 8 的随机排列\n",
    "t = torch.randperm(8)\n",
    "# -1 表示这个维度是根据其他维度计算得出的\n",
    "t_reshape = torch.reshape(t, (-1, 2, 2))\n",
    "print(\"t:{}\\nt_reshape:\\n{}\".format(t, t_reshape))"
   ]
  },
  {
   "cell_type": "code",
   "execution_count": 33,
   "metadata": {},
   "outputs": [
    {
     "name": "stdout",
     "output_type": "stream",
     "text": [
      "t:tensor([1024,    5,    0,    3,    6,    2,    7,    4])\n",
      "t_reshape:\n",
      "tensor([[[1024,    5],\n",
      "         [   0,    3]],\n",
      "\n",
      "        [[   6,    2],\n",
      "         [   7,    4]]])\n",
      "t.data 内存地址:4695902064\n",
      "t_reshape.data 内存地址:4695902064\n"
     ]
    }
   ],
   "source": [
    "# 修改张量 t 的第 0 个元素，张量 t_reshape 也会被改变\n",
    "t[0] = 1024\n",
    "print(\"t:{}\\nt_reshape:\\n{}\".format(t, t_reshape))\n",
    "print(\"t.data 内存地址:{}\".format(id(t.data)))\n",
    "print(\"t_reshape.data 内存地址:{}\".format(id(t_reshape.data)))"
   ]
  },
  {
   "cell_type": "code",
   "execution_count": 35,
   "metadata": {},
   "outputs": [
    {
     "name": "stdout",
     "output_type": "stream",
     "text": [
      "t shape:torch.Size([2, 3, 4])\n",
      "t_transpose shape: torch.Size([2, 4, 3])\n",
      "tensor([[[0.5285, 0.6642, 0.6099, 0.6818],\n",
      "         [0.7479, 0.0369, 0.7517, 0.1484],\n",
      "         [0.1227, 0.5304, 0.4148, 0.7937]],\n",
      "\n",
      "        [[0.2104, 0.0555, 0.8639, 0.4259],\n",
      "         [0.7812, 0.6607, 0.1251, 0.6004],\n",
      "         [0.6201, 0.1652, 0.2628, 0.6705]]])\n",
      "tensor([[[0.5285, 0.7479, 0.1227],\n",
      "         [0.6642, 0.0369, 0.5304],\n",
      "         [0.6099, 0.7517, 0.4148],\n",
      "         [0.6818, 0.1484, 0.7937]],\n",
      "\n",
      "        [[0.2104, 0.7812, 0.6201],\n",
      "         [0.0555, 0.6607, 0.1652],\n",
      "         [0.8639, 0.1251, 0.2628],\n",
      "         [0.4259, 0.6004, 0.6705]]])\n"
     ]
    }
   ],
   "source": [
    "#把 c * h * w 变换为 c * w * h\n",
    "t = torch.rand((2, 3, 4))\n",
    "t_transpose = torch.transpose(t, dim0=1, dim1=2)    # c*h*w     c*w*h\n",
    "print(\"t shape:{}\\nt_transpose shape: {}\".format(t.shape, t_transpose.shape))\n",
    "print(t)\n",
    "print(t_transpose)"
   ]
  },
  {
   "cell_type": "markdown",
   "metadata": {},
   "source": [
    "- torch.t()  二维张量转置"
   ]
  },
  {
   "cell_type": "code",
   "execution_count": 36,
   "metadata": {},
   "outputs": [
    {
     "name": "stdout",
     "output_type": "stream",
     "text": [
      "t.shape: torch.Size([1, 2, 3, 1])\n",
      "t_sq.shape: torch.Size([2, 3])\n",
      "t_0.shape: torch.Size([2, 3, 1])\n",
      "t_1.shape: torch.Size([1, 2, 3, 1])\n"
     ]
    }
   ],
   "source": [
    "# 维度 0 和 3 的长度是 1\n",
    "t = torch.rand((1, 2, 3, 1))\n",
    "# 可以移除维度 0 和 3\n",
    "t_sq = torch.squeeze(t)\n",
    "# 可以移除维度 0\n",
    "t_0 = torch.squeeze(t, dim=0)\n",
    "# 不能移除 1\n",
    "t_1 = torch.squeeze(t, dim=1)\n",
    "print(\"t.shape: {}\".format(t.shape))\n",
    "print(\"t_sq.shape: {}\".format(t_sq.shape))\n",
    "print(\"t_0.shape: {}\".format(t_0.shape))\n",
    "print(\"t_1.shape: {}\".format(t_1.shape))"
   ]
  },
  {
   "cell_type": "markdown",
   "metadata": {},
   "source": [
    "- torch.unsqueeze()  维度扩展"
   ]
  }
 ],
 "metadata": {
  "kernelspec": {
   "display_name": "common8",
   "language": "python",
   "name": "python3"
  },
  "language_info": {
   "codemirror_mode": {
    "name": "ipython",
    "version": 3
   },
   "file_extension": ".py",
   "mimetype": "text/x-python",
   "name": "python",
   "nbconvert_exporter": "python",
   "pygments_lexer": "ipython3",
   "version": "3.8.16"
  }
 },
 "nbformat": 4,
 "nbformat_minor": 2
}
