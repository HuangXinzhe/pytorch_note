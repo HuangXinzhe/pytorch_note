{
 "cells": [
  {
   "cell_type": "markdown",
   "metadata": {},
   "source": [
    "# 自动求导（autograd）"
   ]
  },
  {
   "cell_type": "code",
   "execution_count": 1,
   "metadata": {},
   "outputs": [
    {
     "data": {
      "text/plain": [
       "<torch._C.Generator at 0x105fe1c50>"
      ]
     },
     "execution_count": 1,
     "metadata": {},
     "output_type": "execute_result"
    }
   ],
   "source": [
    "import torch\n",
    "torch.manual_seed(10)"
   ]
  },
  {
   "cell_type": "code",
   "execution_count": 2,
   "metadata": {},
   "outputs": [
    {
     "name": "stdout",
     "output_type": "stream",
     "text": [
      "tensor([5.])\n"
     ]
    }
   ],
   "source": [
    "# ====================================== retain_graph ==============================================\n",
    "w = torch.tensor([1.], requires_grad=True)\n",
    "x = torch.tensor([2.], requires_grad=True)\n",
    "# y=(x+w)*(w+1)\n",
    "a = torch.add(w, x)\n",
    "b = torch.add(w, 1)\n",
    "y = torch.mul(a, b)\n",
    "\n",
    "# 第一次求导，设置 retain_graph=True，保留计算图，若不保存计算图无法进行下一步求导\n",
    "y.backward(retain_graph=True)\n",
    "print(w.grad)\n",
    "# 第二次求导成功\n",
    "y.backward()"
   ]
  },
  {
   "cell_type": "code",
   "execution_count": 3,
   "metadata": {},
   "outputs": [
    {
     "name": "stdout",
     "output_type": "stream",
     "text": [
      "tensor([9.])\n"
     ]
    }
   ],
   "source": [
    "# ====================================== grad_tensors ==============================================\n",
    "w = torch.tensor([1.], requires_grad=True)\n",
    "x = torch.tensor([2.], requires_grad=True)\n",
    "\n",
    "a = torch.add(w, x)\n",
    "b = torch.add(w, 1)\n",
    "\n",
    "y0 = torch.mul(a, b)    # y0 = (x+w) * (w+1)\n",
    "y1 = torch.add(a, b)    # y1 = (x+w) + (w+1)    dy1/dw = 2\n",
    "\n",
    "# 把两个 loss 拼接都到一起\n",
    "loss = torch.cat([y0, y1], dim=0)       # [y0, y1]\n",
    "# 设置两个 loss 的权重: y0 的权重是 1，y1 的权重是 2\n",
    "grad_tensors = torch.tensor([1., 2.])\n",
    "\n",
    "loss.backward(gradient=grad_tensors)    # gradient 传入 torch.autograd.backward()中的grad_tensors\n",
    "# 最终的 w 的导数由两部分组成。∂y0/∂w * 1 + ∂y1/∂w * 2\n",
    "print(w.grad)"
   ]
  },
  {
   "cell_type": "code",
   "execution_count": 4,
   "metadata": {},
   "outputs": [
    {
     "name": "stdout",
     "output_type": "stream",
     "text": [
      "(tensor([6.], grad_fn=<MulBackward0>),)\n",
      "(tensor([2.]),)\n"
     ]
    }
   ],
   "source": [
    "# ====================================== autograd.gard ==============================================\n",
    "x = torch.tensor([3.], requires_grad=True)\n",
    "y = torch.pow(x, 2)     # y = x**2\n",
    "# 如果需要求 2 阶导，需要设置 create_graph=True，让一阶导数 grad_1 也拥有计算图\n",
    "grad_1 = torch.autograd.grad(y, x, create_graph=True)   # grad_1 = dy/dx = 2x = 2 * 3 = 6\n",
    "print(grad_1)\n",
    "# 这里求 2 阶导\n",
    "grad_2 = torch.autograd.grad(grad_1[0], x)              # grad_2 = d(dy/dx)/dx = d(2x)/dx = 2\n",
    "print(grad_2)"
   ]
  },
  {
   "cell_type": "markdown",
   "metadata": {},
   "source": [
    "在每次反向传播求导时，计算的梯度不会自动清零。如果进行多次迭代计算梯度而没有清零，那么梯度会在前一次的基础上叠加。"
   ]
  },
  {
   "cell_type": "code",
   "execution_count": 5,
   "metadata": {},
   "outputs": [
    {
     "name": "stdout",
     "output_type": "stream",
     "text": [
      "tensor([5.])\n",
      "tensor([10.])\n",
      "tensor([15.])\n",
      "tensor([20.])\n"
     ]
    }
   ],
   "source": [
    "# ====================================== tips: 1 ==============================================\n",
    "w = torch.tensor([1.], requires_grad=True)\n",
    "x = torch.tensor([2.], requires_grad=True)\n",
    "# 进行 4 次反向传播求导，每次最后都没有清零\n",
    "for i in range(4):\n",
    "    a = torch.add(w, x)\n",
    "    b = torch.add(w, 1)\n",
    "    y = torch.mul(a, b)\n",
    "    y.backward()\n",
    "    print(w.grad)\n",
    "    # 每次都把梯度清零\n",
    "    # w.grad.zero_()"
   ]
  },
  {
   "cell_type": "markdown",
   "metadata": {},
   "source": [
    "依赖于叶子节点的节点，requires_grad 属性默认为 True。  \n",
    "\n",
    "叶子节点不可执行 inplace 操作。"
   ]
  },
  {
   "cell_type": "code",
   "execution_count": 6,
   "metadata": {},
   "outputs": [
    {
     "name": "stdout",
     "output_type": "stream",
     "text": [
      "True True True\n"
     ]
    }
   ],
   "source": [
    "# ====================================== tips: 2 ==============================================\n",
    "w = torch.tensor([1.], requires_grad=True)\n",
    "x = torch.tensor([2.], requires_grad=True)\n",
    "# y = (x + w) * (w + 1)\n",
    "a = torch.add(w, x)\n",
    "b = torch.add(w, 1)\n",
    "y = torch.mul(a, b)\n",
    "\n",
    "print(a.requires_grad, b.requires_grad, y.requires_grad)"
   ]
  },
  {
   "cell_type": "code",
   "execution_count": 7,
   "metadata": {},
   "outputs": [
    {
     "name": "stdout",
     "output_type": "stream",
     "text": [
      "非 inplace 操作\n",
      "4810988976 tensor([1.])\n",
      "4811044560 tensor([2.])\n",
      "inplace 操作\n",
      "4811702160 tensor([1.])\n",
      "4811702160 tensor([2.])\n"
     ]
    }
   ],
   "source": [
    "# ====================================== tips: 3 ==============================================\n",
    "print(\"非 inplace 操作\")\n",
    "a = torch.ones((1, ))\n",
    "print(id(a), a)\n",
    "# 非 inplace 操作，内存地址不一样\n",
    "a = a + torch.ones((1, ))\n",
    "print(id(a), a)\n",
    "\n",
    "print(\"inplace 操作\")\n",
    "a = torch.ones((1, ))\n",
    "print(id(a), a)\n",
    "# inplace 操作，内存地址一样\n",
    "a += torch.ones((1, ))\n",
    "print(id(a), a)"
   ]
  },
  {
   "cell_type": "code",
   "execution_count": 8,
   "metadata": {},
   "outputs": [
    {
     "ename": "RuntimeError",
     "evalue": "a leaf Variable that requires grad is being used in an in-place operation.",
     "output_type": "error",
     "traceback": [
      "\u001b[0;31m---------------------------------------------------------------------------\u001b[0m",
      "\u001b[0;31mRuntimeError\u001b[0m                              Traceback (most recent call last)",
      "\u001b[1;32m/Users/huangxinzhe/code/pytorch_note/pytorch_practice/05_autograd.ipynb Cell 11\u001b[0m line \u001b[0;36m8\n\u001b[1;32m      <a href='vscode-notebook-cell:/Users/huangxinzhe/code/pytorch_note/pytorch_practice/05_autograd.ipynb#X14sZmlsZQ%3D%3D?line=5'>6</a>\u001b[0m y \u001b[39m=\u001b[39m torch\u001b[39m.\u001b[39mmul(a, b)\n\u001b[1;32m      <a href='vscode-notebook-cell:/Users/huangxinzhe/code/pytorch_note/pytorch_practice/05_autograd.ipynb#X14sZmlsZQ%3D%3D?line=6'>7</a>\u001b[0m \u001b[39m# 在反向传播之前 inplace 改变了 w 的值，再执行 backward() 会报错\u001b[39;00m\n\u001b[0;32m----> <a href='vscode-notebook-cell:/Users/huangxinzhe/code/pytorch_note/pytorch_practice/05_autograd.ipynb#X14sZmlsZQ%3D%3D?line=7'>8</a>\u001b[0m w\u001b[39m.\u001b[39;49madd_(\u001b[39m1\u001b[39;49m)\n\u001b[1;32m      <a href='vscode-notebook-cell:/Users/huangxinzhe/code/pytorch_note/pytorch_practice/05_autograd.ipynb#X14sZmlsZQ%3D%3D?line=8'>9</a>\u001b[0m y\u001b[39m.\u001b[39mbackward()\n",
      "\u001b[0;31mRuntimeError\u001b[0m: a leaf Variable that requires grad is being used in an in-place operation."
     ]
    }
   ],
   "source": [
    "w = torch.tensor([1.], requires_grad=True)\n",
    "x = torch.tensor([2.], requires_grad=True)\n",
    "# y = (x + w) * (w + 1)\n",
    "a = torch.add(w, x)\n",
    "b = torch.add(w, 1)\n",
    "y = torch.mul(a, b)\n",
    "# 在反向传播之前 inplace 改变了 w 的值，再执行 backward() 会报错\n",
    "w.add_(1)\n",
    "y.backward()"
   ]
  }
 ],
 "metadata": {
  "kernelspec": {
   "display_name": "common8",
   "language": "python",
   "name": "python3"
  },
  "language_info": {
   "codemirror_mode": {
    "name": "ipython",
    "version": 3
   },
   "file_extension": ".py",
   "mimetype": "text/x-python",
   "name": "python",
   "nbconvert_exporter": "python",
   "pygments_lexer": "ipython3",
   "version": "3.8.16"
  }
 },
 "nbformat": 4,
 "nbformat_minor": 2
}
