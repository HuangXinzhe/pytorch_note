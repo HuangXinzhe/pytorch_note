{
 "cells": [
  {
   "cell_type": "markdown",
   "metadata": {},
   "source": [
    "torchvision，这是一个计算机视觉工具包。有 3 个主要的模块：\n",
    "- torchvision.transforms: 里面包括常用的图像预处理方法\n",
    "- torchvision.datasets: 里面包括常用数据集如 mnist、CIFAR-10、Image-Net 等\n",
    "- torchvision.models: 里面包括常用的预训练好的模型，如 AlexNet、VGG、ResNet、GoogleNet 等"
   ]
  },
  {
   "cell_type": "markdown",
   "metadata": {},
   "source": [
    "常用的图像预处理方法有：\n",
    "- 数据中心化\n",
    "- 数据标准化\n",
    "- 缩放\n",
    "- 裁剪\n",
    "- 旋转\n",
    "- 翻转\n",
    "- 填充\n",
    "- 噪声添加\n",
    "- 灰度变换\n",
    "- 线性变换\n",
    "- 仿射变换\n",
    "- 亮度、饱和度以及对比度变换。"
   ]
  },
  {
   "cell_type": "code",
   "execution_count": null,
   "metadata": {},
   "outputs": [],
   "source": [
    "# 设置训练集的数据增强和转化\n",
    "train_transform = transforms.Compose([\n",
    "    transforms.Resize((32, 32)),# 缩放\n",
    "    transforms.RandomCrop(32, padding=4), #裁剪\n",
    "    transforms.ToTensor(), # 转为张量，同时归一化\n",
    "    transforms.Normalize(norm_mean, norm_std),# 标准化\n",
    "])\n",
    "\n",
    "# 设置验证集的数据增强和转化，不需要 RandomCrop\n",
    "valid_transform = transforms.Compose([\n",
    "    transforms.Resize((32, 32)),\n",
    "    transforms.ToTensor(),\n",
    "    transforms.Normalize(norm_mean, norm_std),\n",
    "])"
   ]
  },
  {
   "cell_type": "markdown",
   "metadata": {},
   "source": [
    "当我们需要多个transforms操作时，需要作为一个list放在transforms.Compose中。需要注意的是transforms.ToTensor()是把图片转换为张量，同时进行归一化操作。在验证集的数据增强中，不再需要transforms.RandomCrop()操作。然后把这两个transform操作作为参数传给Dataset，在Dataset的__getitem__()方法中做图像增强。"
   ]
  },
  {
   "cell_type": "code",
   "execution_count": null,
   "metadata": {},
   "outputs": [],
   "source": [
    "def __getitem__(self, index):\n",
    "    # 通过 index 读取样本\n",
    "    path_img, label = self.data_info[index]\n",
    "    # 注意这里需要 convert('RGB')\n",
    "    img = Image.open(path_img).convert('RGB')     # 0~255\n",
    "    if self.transform is not None:\n",
    "        img = self.transform(img)   # 在这里做transform，转为tensor等等\n",
    "    # 返回是样本和标签\n",
    "    return img, label"
   ]
  },
  {
   "cell_type": "markdown",
   "metadata": {},
   "source": [
    "其中self.transform(img)会调用Compose的__call__()函数："
   ]
  },
  {
   "cell_type": "code",
   "execution_count": null,
   "metadata": {},
   "outputs": [],
   "source": [
    "def __call__(self, img):\n",
    "    for t in self.transforms:\n",
    "        img = t(img)\n",
    "    return img"
   ]
  },
  {
   "cell_type": "markdown",
   "metadata": {},
   "source": []
  }
 ],
 "metadata": {
  "kernelspec": {
   "display_name": "pytorch9",
   "language": "python",
   "name": "python3"
  },
  "language_info": {
   "name": "python",
   "version": "3.9.18"
  }
 },
 "nbformat": 4,
 "nbformat_minor": 2
}
