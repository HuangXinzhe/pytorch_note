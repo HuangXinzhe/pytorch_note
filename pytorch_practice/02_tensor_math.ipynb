{
 "cells": [
  {
   "cell_type": "markdown",
   "metadata": {},
   "source": [
    "# tensor的数学运算"
   ]
  },
  {
   "cell_type": "markdown",
   "metadata": {},
   "source": [
    "- torch.add(input, other, out=None)\n",
    "- torch.add(input, other, *, alpha=1, out=None)\n",
    "- torch.addcdiv(input, tensor1, tensor2, *, value=1, out=None)\n",
    "- torch.addcmul(input, tensor1, tensor2, *, value=1, out=None)"
   ]
  }
 ],
 "metadata": {
  "kernelspec": {
   "display_name": "common8",
   "language": "python",
   "name": "python3"
  },
  "language_info": {
   "codemirror_mode": {
    "name": "ipython",
    "version": 3
   },
   "file_extension": ".py",
   "mimetype": "text/x-python",
   "name": "python",
   "nbconvert_exporter": "python",
   "pygments_lexer": "ipython3",
   "version": "3.8.16"
  }
 },
 "nbformat": 4,
 "nbformat_minor": 2
}
