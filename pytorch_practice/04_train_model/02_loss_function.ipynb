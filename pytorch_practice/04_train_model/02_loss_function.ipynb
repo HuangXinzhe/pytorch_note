{
 "cells": [
  {
   "cell_type": "markdown",
   "metadata": {},
   "source": [
    "## 损失函数\n",
    "- 损失函数：衡量模型预测值与真实值之间的差距，即模型的预测值与真实值的差异程度。\n",
    "- 代价函数：衡量整个训练集的预测值与真实值之间的差距，是所有损失函数的平均值。\n",
    "- 目标函数：代价函数加上正则项。"
   ]
  },
  {
   "cell_type": "code",
   "execution_count": null,
   "metadata": {},
   "outputs": [],
   "source": []
  }
 ],
 "metadata": {
  "language_info": {
   "name": "python"
  }
 },
 "nbformat": 4,
 "nbformat_minor": 2
}
