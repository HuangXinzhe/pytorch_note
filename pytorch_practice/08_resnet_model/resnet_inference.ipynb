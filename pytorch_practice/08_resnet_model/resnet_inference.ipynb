{
 "cells": [
  {
   "cell_type": "markdown",
   "metadata": {},
   "source": [
    "## 以 ResNet 18 为例"
   ]
  },
  {
   "cell_type": "markdown",
   "metadata": {},
   "source": [
    "首先加载训练好的模型参数："
   ]
  },
  {
   "cell_type": "code",
   "execution_count": null,
   "metadata": {},
   "outputs": [],
   "source": [
    "resnet18 = models.resnet18()\n",
    "\n",
    "# 修改全连接层的输出\n",
    "num_ftrs = resnet18.fc.in_features\n",
    "resnet18.fc = nn.Linear(num_ftrs, 2)\n",
    "\n",
    "# 加载模型参数\n",
    "checkpoint = torch.load(m_path)\n",
    "resnet18.load_state_dict(checkpoint['model_state_dict'])"
   ]
  },
  {
   "cell_type": "markdown",
   "metadata": {},
   "source": [
    "然后比较重要的是把模型放到 GPU 上，并且转换到eval模式："
   ]
  },
  {
   "cell_type": "code",
   "execution_count": null,
   "metadata": {},
   "outputs": [],
   "source": [
    "resnet18.to(device)\n",
    "resnet18.eval()"
   ]
  },
  {
   "cell_type": "code",
   "execution_count": null,
   "metadata": {},
   "outputs": [],
   "source": [
    "with torch.no_grad():\n",
    "    for idx, img_name in enumerate(img_names):\n",
    "\n",
    "        path_img = os.path.join(img_dir, img_name)\n",
    "\n",
    "        # step 1/4 : path --> img\n",
    "        img_rgb = Image.open(path_img).convert('RGB')\n",
    "\n",
    "        # step 2/4 : img --> tensor\n",
    "        img_tensor = img_transform(img_rgb, inference_transform)\n",
    "        img_tensor.unsqueeze_(0)\n",
    "        img_tensor = img_tensor.to(device)\n",
    "\n",
    "        # step 3/4 : tensor --> vector\n",
    "        outputs = resnet18(img_tensor)\n",
    "\n",
    "        # step 4/4 : get label\n",
    "        _, pred_int = torch.max(outputs.data, 1)\n",
    "        pred_str = classes[int(pred_int)]"
   ]
  },
  {
   "cell_type": "markdown",
   "metadata": {},
   "source": [
    "- 总结一下 inference 阶段需要注意的事项：\n",
    "    - 确保 model 处于 eval 状态，而非 trainning 状态\n",
    "    - 设置 torch.no_grad()，减少内存消耗，加快运算速度\n",
    "    - 数据预处理需要保持一致，比如 RGB 或者 rBGR"
   ]
  },
  {
   "cell_type": "markdown",
   "metadata": {},
   "source": []
  }
 ],
 "metadata": {
  "language_info": {
   "name": "python"
  }
 },
 "nbformat": 4,
 "nbformat_minor": 2
}
